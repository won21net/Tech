{
 "cells": [
  {
   "cell_type": "code",
   "execution_count": 1,
   "metadata": {},
   "outputs": [],
   "source": [
    "import cx_Oracle as cxo"
   ]
  },
  {
   "cell_type": "code",
   "execution_count": 3,
   "metadata": {},
   "outputs": [],
   "source": [
    "conn = cxo.connect(\"Jackpot/jackpot@orcl\")"
   ]
  },
  {
   "cell_type": "code",
   "execution_count": 5,
   "metadata": {},
   "outputs": [],
   "source": [
    "cur = conn.cursor()"
   ]
  },
  {
   "cell_type": "code",
   "execution_count": 35,
   "metadata": {},
   "outputs": [
    {
     "name": "stdout",
     "output_type": "stream",
     "text": [
      "('20181128', 'A000020', 9480, 9490, 9150, 9320, -110, 138261, 2374964, 668, 8.5, -1.17, '5', 128592, 0, 10629, 1638)\n"
     ]
    }
   ],
   "source": [
    "cur.execute(\"SELECT * FROM 일별주가 WHERE 기준일자 = (SELECT MAX(기준일자) FROM 일별주가)\")\n",
    "row = cur.fetchone()\n",
    "print(row)"
   ]
  },
  {
   "cell_type": "code",
   "execution_count": 17,
   "metadata": {
    "scrolled": true
   },
   "outputs": [
    {
     "name": "stdout",
     "output_type": "stream",
     "text": [
      "[('20181128', 'A000030', 15900, 16000, 15450, 15700, -200, 1451132, 187542308, -388973, 27.740000000000002, -1.26, '5', 2265040, 0, -301103, -92837), ('20181128', 'A000040', 512, 519, 507, 512, -6, 89990, 30711103, -644, 23.81, -1.16, '5', 4599, 0, -644, 18), ('20181128', 'A000050', 11250, 11250, 11050, 11150, -50, 10741, 623721, 490, 2.2800000000000002, -0.45, '5', 11958, 0, 490, -8)]\n"
     ]
    }
   ],
   "source": [
    "res = cur.fetchmany(numRows=3)\n",
    "print(res)"
   ]
  },
  {
   "cell_type": "markdown",
   "metadata": {},
   "source": [
    "# DB to Numpy\n",
    "## Numpy to CSV File"
   ]
  },
  {
   "cell_type": "code",
   "execution_count": 55,
   "metadata": {},
   "outputs": [],
   "source": [
    "import numpy as np\n",
    "import pandas as pd"
   ]
  },
  {
   "cell_type": "code",
   "execution_count": 56,
   "metadata": {},
   "outputs": [
    {
     "name": "stdout",
     "output_type": "stream",
     "text": [
      "('20181128', 'A008560', 4410, 4440, 4340, 4365, -35, 1197498, 48231530, 249047, 7.96, -0.8, '5', 523194, 0, 286295, -556886)\n"
     ]
    }
   ],
   "source": [
    "cur.execute(\"SELECT * FROM 일별주가 WHERE 종목코드 = 'A008560' ORDER BY 기준일자 DESC\")\n",
    "row = cur.fetchone()\n",
    "print(row)"
   ]
  },
  {
   "cell_type": "code",
   "execution_count": 63,
   "metadata": {},
   "outputs": [],
   "source": [
    "sql = \"\"\"\n",
    "SELECT A.시가,A.고가,A.저가,A.종가,A.전일대비,A.거래량,A.거래대금,A.등락률,A.개인거래대금,A.외인거래대금,A.기관거래대금\n",
    "     , B.시가,B.고가,B.저가,B.종가,B.전일대비,B.거래량,B.외인보유,B.외인보유전일대비,B.외인비중,B.등락률,B.거래대금\n",
    "     , C.개인순매수,C.외인순매수,C.기관순매수,C.금융투자,C.보험,C.투신,C.은행,C.기타금융,C.연기금,C.기타법인,C.기타외인,C.사모펀드,C.국가지자체\n",
    "     , LEAD(B.등락률) over (order by A.기준일자 ASC) CLASS\n",
    "  FROM 일별지수 A\n",
    "     , 일별주가 B\n",
    "     , 일별수급 C\n",
    " WHERE 1=1\n",
    "   AND A.기준일자 = B.기준일자\n",
    "   AND A.기준일자 = C.기준일자\n",
    "   AND B.종목코드 = C.종목코드\n",
    "   AND A.지수코드 = 'U001' --DECODE(:시장구분, 1, 'U001', 'U201')\n",
    "   --AND B.기준일자 = '20180619'\n",
    "   AND B.종목코드 = 'A008560' --:종목코드\n",
    " ORDER BY A.기준일자 DESC\n",
    "\"\"\""
   ]
  },
  {
   "cell_type": "code",
   "execution_count": 64,
   "metadata": {},
   "outputs": [
    {
     "data": {
      "text/plain": [
       "<cx_Oracle.Cursor on <cx_Oracle.Connection to Jackpot@orcl>>"
      ]
     },
     "execution_count": 64,
     "metadata": {},
     "output_type": "execute_result"
    }
   ],
   "source": [
    "cur.execute(sql)"
   ]
  },
  {
   "cell_type": "code",
   "execution_count": 65,
   "metadata": {},
   "outputs": [],
   "source": [
    "alldata = cur.fetchall()"
   ]
  },
  {
   "cell_type": "code",
   "execution_count": 66,
   "metadata": {},
   "outputs": [],
   "source": [
    "#npdata = np.array(alldata)\n",
    "#npdata.ndim\n",
    "\n",
    "df = pd.DataFrame(alldata)\n",
    "df.to_csv(\"D:\\Python\\keras\\stock.csv\", header=False, index=False)"
   ]
  },
  {
   "cell_type": "code",
   "execution_count": null,
   "metadata": {},
   "outputs": [],
   "source": [
    "cur.close()\n",
    "conn.close()"
   ]
  }
 ],
 "metadata": {
  "kernelspec": {
   "display_name": "Python 3",
   "language": "python",
   "name": "python3"
  },
  "language_info": {
   "codemirror_mode": {
    "name": "ipython",
    "version": 3
   },
   "file_extension": ".py",
   "mimetype": "text/x-python",
   "name": "python",
   "nbconvert_exporter": "python",
   "pygments_lexer": "ipython3",
   "version": "3.6.7"
  }
 },
 "nbformat": 4,
 "nbformat_minor": 2
}
